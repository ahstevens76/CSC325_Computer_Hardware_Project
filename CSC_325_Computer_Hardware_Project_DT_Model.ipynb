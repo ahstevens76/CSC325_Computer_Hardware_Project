{
  "nbformat": 4,
  "nbformat_minor": 0,
  "metadata": {
    "colab": {
      "provenance": []
    },
    "kernelspec": {
      "name": "python3",
      "display_name": "Python 3"
    },
    "language_info": {
      "name": "python"
    }
  },
  "cells": [
    {
      "cell_type": "code",
      "execution_count": null,
      "metadata": {
        "id": "SoSDrxZCRtRA"
      },
      "outputs": [],
      "source": [
        "import pandas as pd\n",
        "import numpy as np\n",
        "import matplotlib.pyplot as plt"
      ]
    },
    {
      "cell_type": "code",
      "source": [
        "data = pd.read_csv('Computer Hardware Dataset.csv')\n",
        "print(data)"
      ],
      "metadata": {
        "colab": {
          "base_uri": "https://localhost:8080/"
        },
        "id": "qebWT36DS1qd",
        "outputId": "c5336cd3-229b-4038-dab9-8e99cebc5d29"
      },
      "execution_count": null,
      "outputs": [
        {
          "output_type": "stream",
          "name": "stdout",
          "text": [
            "                Brand Component  Base Clock(GHz)  Turbo Clock(GHz)  Cores  \\\n",
            "0                 AMD       CPU             4.50              5.70     16   \n",
            "1                 AMD       CPU             4.50              5.40      8   \n",
            "2                 AMD       CPU             3.80              5.10      6   \n",
            "3               Intel       CPU             3.00              5.20     24   \n",
            "4               Intel       CPU             3.40              5.30     16   \n",
            "5               Intel       CPU             3.50              5.10     14   \n",
            "6                ASUS       GPU             1.90              2.50      0   \n",
            "7                 MSI       GPU             2.30              2.60      0   \n",
            "8            GIGABYTE       GPU             2.30              2.60      0   \n",
            "9             Corsair       RAM             0.00              0.00      0   \n",
            "10            Corsair       RAM             0.00              0.00      0   \n",
            "11      G.Skill Aegis       RAM             0.00              0.00      0   \n",
            "12            Samsung       SSD             0.00              0.00      0   \n",
            "13            Samsung       SSD             0.00              0.00      0   \n",
            "14            Corsair       SSD             0.00              0.00      0   \n",
            "15               ASUS       GPU             1.70              1.90      0   \n",
            "16           Gigabyte       GPU             1.50              1.70      0   \n",
            "17           Gigabyte       GPU             1.60              1.90      0   \n",
            "18            Corsair       RAM             0.00              0.00      0   \n",
            "19  Crucial Ballistix       RAM             0.00              0.00      0   \n",
            "20            Corsair       RAM             0.00              0.00      0   \n",
            "21            Corsair       SSD             0.00              0.00      0   \n",
            "22     Sabrent Rocket       SSD             0.00              0.00      0   \n",
            "23            Samsung       SSD             0.00              0.00      0   \n",
            "24                AMD       CPU             3.40              4.60      8   \n",
            "25               ASUS       GPU             1.40              1.85      0   \n",
            "26            Corsair       RAM             0.00              0.00      0   \n",
            "27              ADATA       SSD             0.00              0.00      0   \n",
            "28              Intel       CPU             3.30              4.30      4   \n",
            "29               EVGA       GPU             1.39              1.69      0   \n",
            "30  Crucial Ballistix       RAM             0.00              0.00      0   \n",
            "31            Samsung       SSD             0.00              0.00      0   \n",
            "32              Intel       CPU             2.60              4.40      6   \n",
            "33             INNO3D       GPU             1.41              1.65      0   \n",
            "34            G.Skill       RAM             0.00              0.00      0   \n",
            "35            Seagate       SSD             0.00              0.00      0   \n",
            "36              Intel       CPU             3.30              3.30      2   \n",
            "37                MSI       GPU             1.57              1.80      0   \n",
            "38            Corsair       RAM             0.00              0.00      0   \n",
            "39            Corsair       SSD             0.00              0.00      0   \n",
            "\n",
            "    Memory_Size(GB)  RAM_Speed(MHz)   Price  \n",
            "0                 0               0  544.02  \n",
            "1                 0               0  318.44  \n",
            "2                 0               0  216.89  \n",
            "3                 0               0  522.99  \n",
            "4                 0               0  369.99  \n",
            "5                 0               0  297.99  \n",
            "6                12               0  629.99  \n",
            "7                12               0  705.00  \n",
            "8                12               0  719.99  \n",
            "9                32            3200   81.99  \n",
            "10               16            3000  328.18  \n",
            "11                8            3000   21.99  \n",
            "12             2000               0  174.99  \n",
            "13             1000               0  104.95  \n",
            "14             4000               0  329.99  \n",
            "15                8               0  779.99  \n",
            "16                8               0  295.50  \n",
            "17                8               0  319.99  \n",
            "18               16            4800   79.99  \n",
            "19                4            1600   16.30  \n",
            "20               16            3000   43.99  \n",
            "21             4000               0  553.45  \n",
            "22              512               0   44.99  \n",
            "23              500               0   69.90  \n",
            "24                0               0  162.00  \n",
            "25               10               0  499.99  \n",
            "26               16            1600   24.99  \n",
            "27              240               0   46.90  \n",
            "28                0               0   87.04  \n",
            "29               24               0  899.99  \n",
            "30                8            2666   89.96  \n",
            "31             1000               0  149.99  \n",
            "32                0               0  150.95  \n",
            "33                8               0  269.99  \n",
            "34               32            3200   69.99  \n",
            "35             2000               0  187.99  \n",
            "36                0               0   45.99  \n",
            "37                8               0  369.99  \n",
            "38                8            2666   24.99  \n",
            "39              240               0   54.99  \n"
          ]
        }
      ]
    },
    {
      "cell_type": "code",
      "source": [
        "one_hot_encoded_data = pd.get_dummies(data, columns = ['Brand', 'Component'])\n",
        "print(one_hot_encoded_data)"
      ],
      "metadata": {
        "colab": {
          "base_uri": "https://localhost:8080/"
        },
        "id": "9QbLTvuDTBb0",
        "outputId": "b942f5df-72a4-4f01-c204-9cc925774a98"
      },
      "execution_count": null,
      "outputs": [
        {
          "output_type": "stream",
          "name": "stdout",
          "text": [
            "    Base Clock(GHz)  Turbo Clock(GHz)  Cores  Memory_Size(GB)  RAM_Speed(MHz)  \\\n",
            "0              4.50              5.70     16                0               0   \n",
            "1              4.50              5.40      8                0               0   \n",
            "2              3.80              5.10      6                0               0   \n",
            "3              3.00              5.20     24                0               0   \n",
            "4              3.40              5.30     16                0               0   \n",
            "5              3.50              5.10     14                0               0   \n",
            "6              1.90              2.50      0               12               0   \n",
            "7              2.30              2.60      0               12               0   \n",
            "8              2.30              2.60      0               12               0   \n",
            "9              0.00              0.00      0               32            3200   \n",
            "10             0.00              0.00      0               16            3000   \n",
            "11             0.00              0.00      0                8            3000   \n",
            "12             0.00              0.00      0             2000               0   \n",
            "13             0.00              0.00      0             1000               0   \n",
            "14             0.00              0.00      0             4000               0   \n",
            "15             1.70              1.90      0                8               0   \n",
            "16             1.50              1.70      0                8               0   \n",
            "17             1.60              1.90      0                8               0   \n",
            "18             0.00              0.00      0               16            4800   \n",
            "19             0.00              0.00      0                4            1600   \n",
            "20             0.00              0.00      0               16            3000   \n",
            "21             0.00              0.00      0             4000               0   \n",
            "22             0.00              0.00      0              512               0   \n",
            "23             0.00              0.00      0              500               0   \n",
            "24             3.40              4.60      8                0               0   \n",
            "25             1.40              1.85      0               10               0   \n",
            "26             0.00              0.00      0               16            1600   \n",
            "27             0.00              0.00      0              240               0   \n",
            "28             3.30              4.30      4                0               0   \n",
            "29             1.39              1.69      0               24               0   \n",
            "30             0.00              0.00      0                8            2666   \n",
            "31             0.00              0.00      0             1000               0   \n",
            "32             2.60              4.40      6                0               0   \n",
            "33             1.41              1.65      0                8               0   \n",
            "34             0.00              0.00      0               32            3200   \n",
            "35             0.00              0.00      0             2000               0   \n",
            "36             3.30              3.30      2                0               0   \n",
            "37             1.57              1.80      0                8               0   \n",
            "38             0.00              0.00      0                8            2666   \n",
            "39             0.00              0.00      0              240               0   \n",
            "\n",
            "     Price  Brand_ADATA  Brand_AMD  Brand_ASUS  Brand_Corsair  ...  \\\n",
            "0   544.02            0          1           0              0  ...   \n",
            "1   318.44            0          1           0              0  ...   \n",
            "2   216.89            0          1           0              0  ...   \n",
            "3   522.99            0          0           0              0  ...   \n",
            "4   369.99            0          0           0              0  ...   \n",
            "5   297.99            0          0           0              0  ...   \n",
            "6   629.99            0          0           1              0  ...   \n",
            "7   705.00            0          0           0              0  ...   \n",
            "8   719.99            0          0           0              0  ...   \n",
            "9    81.99            0          0           0              1  ...   \n",
            "10  328.18            0          0           0              1  ...   \n",
            "11   21.99            0          0           0              0  ...   \n",
            "12  174.99            0          0           0              0  ...   \n",
            "13  104.95            0          0           0              0  ...   \n",
            "14  329.99            0          0           0              1  ...   \n",
            "15  779.99            0          0           1              0  ...   \n",
            "16  295.50            0          0           0              0  ...   \n",
            "17  319.99            0          0           0              0  ...   \n",
            "18   79.99            0          0           0              1  ...   \n",
            "19   16.30            0          0           0              0  ...   \n",
            "20   43.99            0          0           0              1  ...   \n",
            "21  553.45            0          0           0              1  ...   \n",
            "22   44.99            0          0           0              0  ...   \n",
            "23   69.90            0          0           0              0  ...   \n",
            "24  162.00            0          1           0              0  ...   \n",
            "25  499.99            0          0           1              0  ...   \n",
            "26   24.99            0          0           0              1  ...   \n",
            "27   46.90            1          0           0              0  ...   \n",
            "28   87.04            0          0           0              0  ...   \n",
            "29  899.99            0          0           0              0  ...   \n",
            "30   89.96            0          0           0              0  ...   \n",
            "31  149.99            0          0           0              0  ...   \n",
            "32  150.95            0          0           0              0  ...   \n",
            "33  269.99            0          0           0              0  ...   \n",
            "34   69.99            0          0           0              0  ...   \n",
            "35  187.99            0          0           0              0  ...   \n",
            "36   45.99            0          0           0              0  ...   \n",
            "37  369.99            0          0           0              0  ...   \n",
            "38   24.99            0          0           0              1  ...   \n",
            "39   54.99            0          0           0              1  ...   \n",
            "\n",
            "    Brand_INNO3D  Brand_Intel  Brand_MSI  Brand_Sabrent Rocket  Brand_Samsung  \\\n",
            "0              0            0          0                     0              0   \n",
            "1              0            0          0                     0              0   \n",
            "2              0            0          0                     0              0   \n",
            "3              0            1          0                     0              0   \n",
            "4              0            1          0                     0              0   \n",
            "5              0            1          0                     0              0   \n",
            "6              0            0          0                     0              0   \n",
            "7              0            0          1                     0              0   \n",
            "8              0            0          0                     0              0   \n",
            "9              0            0          0                     0              0   \n",
            "10             0            0          0                     0              0   \n",
            "11             0            0          0                     0              0   \n",
            "12             0            0          0                     0              1   \n",
            "13             0            0          0                     0              1   \n",
            "14             0            0          0                     0              0   \n",
            "15             0            0          0                     0              0   \n",
            "16             0            0          0                     0              0   \n",
            "17             0            0          0                     0              0   \n",
            "18             0            0          0                     0              0   \n",
            "19             0            0          0                     0              0   \n",
            "20             0            0          0                     0              0   \n",
            "21             0            0          0                     0              0   \n",
            "22             0            0          0                     1              0   \n",
            "23             0            0          0                     0              1   \n",
            "24             0            0          0                     0              0   \n",
            "25             0            0          0                     0              0   \n",
            "26             0            0          0                     0              0   \n",
            "27             0            0          0                     0              0   \n",
            "28             0            1          0                     0              0   \n",
            "29             0            0          0                     0              0   \n",
            "30             0            0          0                     0              0   \n",
            "31             0            0          0                     0              1   \n",
            "32             0            1          0                     0              0   \n",
            "33             1            0          0                     0              0   \n",
            "34             0            0          0                     0              0   \n",
            "35             0            0          0                     0              0   \n",
            "36             0            1          0                     0              0   \n",
            "37             0            0          1                     0              0   \n",
            "38             0            0          0                     0              0   \n",
            "39             0            0          0                     0              0   \n",
            "\n",
            "    Brand_Seagate  Component_CPU  Component_GPU  Component_RAM  Component_SSD  \n",
            "0               0              1              0              0              0  \n",
            "1               0              1              0              0              0  \n",
            "2               0              1              0              0              0  \n",
            "3               0              1              0              0              0  \n",
            "4               0              1              0              0              0  \n",
            "5               0              1              0              0              0  \n",
            "6               0              0              1              0              0  \n",
            "7               0              0              1              0              0  \n",
            "8               0              0              1              0              0  \n",
            "9               0              0              0              1              0  \n",
            "10              0              0              0              1              0  \n",
            "11              0              0              0              1              0  \n",
            "12              0              0              0              0              1  \n",
            "13              0              0              0              0              1  \n",
            "14              0              0              0              0              1  \n",
            "15              0              0              1              0              0  \n",
            "16              0              0              1              0              0  \n",
            "17              0              0              1              0              0  \n",
            "18              0              0              0              1              0  \n",
            "19              0              0              0              1              0  \n",
            "20              0              0              0              1              0  \n",
            "21              0              0              0              0              1  \n",
            "22              0              0              0              0              1  \n",
            "23              0              0              0              0              1  \n",
            "24              0              1              0              0              0  \n",
            "25              0              0              1              0              0  \n",
            "26              0              0              0              1              0  \n",
            "27              0              0              0              0              1  \n",
            "28              0              1              0              0              0  \n",
            "29              0              0              1              0              0  \n",
            "30              0              0              0              1              0  \n",
            "31              0              0              0              0              1  \n",
            "32              0              1              0              0              0  \n",
            "33              0              0              1              0              0  \n",
            "34              0              0              0              1              0  \n",
            "35              1              0              0              0              1  \n",
            "36              0              1              0              0              0  \n",
            "37              0              0              1              0              0  \n",
            "38              0              0              0              1              0  \n",
            "39              0              0              0              0              1  \n",
            "\n",
            "[40 rows x 26 columns]\n"
          ]
        }
      ]
    },
    {
      "cell_type": "code",
      "source": [
        "X = one_hot_encoded_data.drop(columns=['Price'])\n",
        "y = one_hot_encoded_data['Price']"
      ],
      "metadata": {
        "id": "YDsMbBBpTNyL"
      },
      "execution_count": null,
      "outputs": []
    },
    {
      "cell_type": "markdown",
      "source": [
        "## Data Preprocessing"
      ],
      "metadata": {
        "id": "nxVohHHVTcLj"
      }
    },
    {
      "cell_type": "code",
      "source": [
        "from sklearn.model_selection import train_test_split\n",
        "X_train, X_test, y_train, y_test = train_test_split(X, y, test_size=0.1)\n",
        "print(X_train.shape, y_train.shape, X_test.shape, y_test.shape)"
      ],
      "metadata": {
        "colab": {
          "base_uri": "https://localhost:8080/"
        },
        "id": "JGqf1vJPTbtU",
        "outputId": "83691f42-9330-4899-a65d-aba17e5fa4ec"
      },
      "execution_count": null,
      "outputs": [
        {
          "output_type": "stream",
          "name": "stdout",
          "text": [
            "(36, 25) (36,) (4, 25) (4,)\n"
          ]
        }
      ]
    },
    {
      "cell_type": "markdown",
      "source": [
        "## Decision Tree Model"
      ],
      "metadata": {
        "id": "0YkBxLzxT-oD"
      }
    },
    {
      "cell_type": "code",
      "source": [
        "from sklearn.tree import DecisionTreeRegressor\n",
        "dtr_model = DecisionTreeRegressor()\n",
        "dtr_model.fit(X_train, y_train)"
      ],
      "metadata": {
        "colab": {
          "base_uri": "https://localhost:8080/",
          "height": 74
        },
        "id": "xvnLaSoAT-YS",
        "outputId": "93821f81-bc82-45aa-c971-6496d149d59d"
      },
      "execution_count": null,
      "outputs": [
        {
          "output_type": "execute_result",
          "data": {
            "text/plain": [
              "DecisionTreeRegressor()"
            ],
            "text/html": [
              "<style>#sk-container-id-6 {color: black;background-color: white;}#sk-container-id-6 pre{padding: 0;}#sk-container-id-6 div.sk-toggleable {background-color: white;}#sk-container-id-6 label.sk-toggleable__label {cursor: pointer;display: block;width: 100%;margin-bottom: 0;padding: 0.3em;box-sizing: border-box;text-align: center;}#sk-container-id-6 label.sk-toggleable__label-arrow:before {content: \"▸\";float: left;margin-right: 0.25em;color: #696969;}#sk-container-id-6 label.sk-toggleable__label-arrow:hover:before {color: black;}#sk-container-id-6 div.sk-estimator:hover label.sk-toggleable__label-arrow:before {color: black;}#sk-container-id-6 div.sk-toggleable__content {max-height: 0;max-width: 0;overflow: hidden;text-align: left;background-color: #f0f8ff;}#sk-container-id-6 div.sk-toggleable__content pre {margin: 0.2em;color: black;border-radius: 0.25em;background-color: #f0f8ff;}#sk-container-id-6 input.sk-toggleable__control:checked~div.sk-toggleable__content {max-height: 200px;max-width: 100%;overflow: auto;}#sk-container-id-6 input.sk-toggleable__control:checked~label.sk-toggleable__label-arrow:before {content: \"▾\";}#sk-container-id-6 div.sk-estimator input.sk-toggleable__control:checked~label.sk-toggleable__label {background-color: #d4ebff;}#sk-container-id-6 div.sk-label input.sk-toggleable__control:checked~label.sk-toggleable__label {background-color: #d4ebff;}#sk-container-id-6 input.sk-hidden--visually {border: 0;clip: rect(1px 1px 1px 1px);clip: rect(1px, 1px, 1px, 1px);height: 1px;margin: -1px;overflow: hidden;padding: 0;position: absolute;width: 1px;}#sk-container-id-6 div.sk-estimator {font-family: monospace;background-color: #f0f8ff;border: 1px dotted black;border-radius: 0.25em;box-sizing: border-box;margin-bottom: 0.5em;}#sk-container-id-6 div.sk-estimator:hover {background-color: #d4ebff;}#sk-container-id-6 div.sk-parallel-item::after {content: \"\";width: 100%;border-bottom: 1px solid gray;flex-grow: 1;}#sk-container-id-6 div.sk-label:hover label.sk-toggleable__label {background-color: #d4ebff;}#sk-container-id-6 div.sk-serial::before {content: \"\";position: absolute;border-left: 1px solid gray;box-sizing: border-box;top: 0;bottom: 0;left: 50%;z-index: 0;}#sk-container-id-6 div.sk-serial {display: flex;flex-direction: column;align-items: center;background-color: white;padding-right: 0.2em;padding-left: 0.2em;position: relative;}#sk-container-id-6 div.sk-item {position: relative;z-index: 1;}#sk-container-id-6 div.sk-parallel {display: flex;align-items: stretch;justify-content: center;background-color: white;position: relative;}#sk-container-id-6 div.sk-item::before, #sk-container-id-6 div.sk-parallel-item::before {content: \"\";position: absolute;border-left: 1px solid gray;box-sizing: border-box;top: 0;bottom: 0;left: 50%;z-index: -1;}#sk-container-id-6 div.sk-parallel-item {display: flex;flex-direction: column;z-index: 1;position: relative;background-color: white;}#sk-container-id-6 div.sk-parallel-item:first-child::after {align-self: flex-end;width: 50%;}#sk-container-id-6 div.sk-parallel-item:last-child::after {align-self: flex-start;width: 50%;}#sk-container-id-6 div.sk-parallel-item:only-child::after {width: 0;}#sk-container-id-6 div.sk-dashed-wrapped {border: 1px dashed gray;margin: 0 0.4em 0.5em 0.4em;box-sizing: border-box;padding-bottom: 0.4em;background-color: white;}#sk-container-id-6 div.sk-label label {font-family: monospace;font-weight: bold;display: inline-block;line-height: 1.2em;}#sk-container-id-6 div.sk-label-container {text-align: center;}#sk-container-id-6 div.sk-container {/* jupyter's `normalize.less` sets `[hidden] { display: none; }` but bootstrap.min.css set `[hidden] { display: none !important; }` so we also need the `!important` here to be able to override the default hidden behavior on the sphinx rendered scikit-learn.org. See: https://github.com/scikit-learn/scikit-learn/issues/21755 */display: inline-block !important;position: relative;}#sk-container-id-6 div.sk-text-repr-fallback {display: none;}</style><div id=\"sk-container-id-6\" class=\"sk-top-container\"><div class=\"sk-text-repr-fallback\"><pre>DecisionTreeRegressor()</pre><b>In a Jupyter environment, please rerun this cell to show the HTML representation or trust the notebook. <br />On GitHub, the HTML representation is unable to render, please try loading this page with nbviewer.org.</b></div><div class=\"sk-container\" hidden><div class=\"sk-item\"><div class=\"sk-estimator sk-toggleable\"><input class=\"sk-toggleable__control sk-hidden--visually\" id=\"sk-estimator-id-6\" type=\"checkbox\" checked><label for=\"sk-estimator-id-6\" class=\"sk-toggleable__label sk-toggleable__label-arrow\">DecisionTreeRegressor</label><div class=\"sk-toggleable__content\"><pre>DecisionTreeRegressor()</pre></div></div></div></div></div>"
            ]
          },
          "metadata": {},
          "execution_count": 40
        }
      ]
    },
    {
      "cell_type": "code",
      "source": [
        "from sklearn.metrics import mean_squared_error\n",
        "dtr_train_predict = dtr_model.predict(X_train)\n",
        "dtr_train_mse = mean_squared_error(y_train, dtr_train_predict)"
      ],
      "metadata": {
        "id": "nmKsrSMNUWSS"
      },
      "execution_count": null,
      "outputs": []
    },
    {
      "cell_type": "code",
      "source": [
        "print('Training mse: ', dtr_train_mse)"
      ],
      "metadata": {
        "colab": {
          "base_uri": "https://localhost:8080/"
        },
        "id": "EnJyxR5-U_UN",
        "outputId": "4298bbbf-c374-4b6b-d97b-2b6b75a00db0"
      },
      "execution_count": null,
      "outputs": [
        {
          "output_type": "stream",
          "name": "stdout",
          "text": [
            "Training mse:  1843.4295736111114\n"
          ]
        }
      ]
    },
    {
      "cell_type": "markdown",
      "source": [
        "## Evaluations"
      ],
      "metadata": {
        "id": "jK7KW0lkVHlm"
      }
    },
    {
      "cell_type": "code",
      "source": [
        "dtr_test_predict = dtr_model.predict(X_test)\n",
        "dtr_test_mse = mean_squared_error(y_test, dtr_test_predict)"
      ],
      "metadata": {
        "id": "Jh9TMja4VJRZ"
      },
      "execution_count": null,
      "outputs": []
    },
    {
      "cell_type": "code",
      "source": [
        "print('Test mse: ', dtr_test_mse)"
      ],
      "metadata": {
        "colab": {
          "base_uri": "https://localhost:8080/"
        },
        "id": "LkgWC37VVVJ7",
        "outputId": "70715aff-a0b4-40cf-f03b-03cf92ae22c0"
      },
      "execution_count": null,
      "outputs": [
        {
          "output_type": "stream",
          "name": "stdout",
          "text": [
            "Test mse:  1568.725875\n"
          ]
        }
      ]
    }
  ]
}