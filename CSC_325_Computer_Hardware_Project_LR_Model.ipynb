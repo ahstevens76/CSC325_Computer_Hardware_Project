{
  "nbformat": 4,
  "nbformat_minor": 0,
  "metadata": {
    "colab": {
      "provenance": []
    },
    "kernelspec": {
      "name": "python3",
      "display_name": "Python 3"
    },
    "language_info": {
      "name": "python"
    }
  },
  "cells": [
    {
      "cell_type": "markdown",
      "source": [
        "## Data and One-Hot-Encoder"
      ],
      "metadata": {
        "id": "QpJfKTnJiU4i"
      }
    },
    {
      "cell_type": "code",
      "execution_count": null,
      "metadata": {
        "id": "IUb-W-hgiKsp"
      },
      "outputs": [],
      "source": [
        "import pandas as pd\n",
        "import numpy as np\n",
        "import matplotlib.pyplot as plt"
      ]
    },
    {
      "cell_type": "code",
      "source": [
        "data = pd.read_csv('Computer Hardware Dataset.csv')\n",
        "print(data)"
      ],
      "metadata": {
        "colab": {
          "base_uri": "https://localhost:8080/"
        },
        "id": "E3jp39kPiuIf",
        "outputId": "de7c3ecb-6004-4b04-9081-826e439dcdba"
      },
      "execution_count": null,
      "outputs": [
        {
          "output_type": "stream",
          "name": "stdout",
          "text": [
            "                Brand Component  Base Clock(GHz)  Turbo Clock(GHz)  Cores  \\\n",
            "0                 AMD       CPU             4.50              5.70     16   \n",
            "1                 AMD       CPU             4.50              5.40      8   \n",
            "2                 AMD       CPU             3.80              5.10      6   \n",
            "3               Intel       CPU             3.00              5.20     24   \n",
            "4               Intel       CPU             3.40              5.30     16   \n",
            "5               Intel       CPU             3.50              5.10     14   \n",
            "6                ASUS       GPU             1.90              2.50      0   \n",
            "7                 MSI       GPU             2.30              2.60      0   \n",
            "8            GIGABYTE       GPU             2.30              2.60      0   \n",
            "9             Corsair       RAM             0.00              0.00      0   \n",
            "10            Corsair       RAM             0.00              0.00      0   \n",
            "11      G.Skill Aegis       RAM             0.00              0.00      0   \n",
            "12            Samsung       SSD             0.00              0.00      0   \n",
            "13            Samsung       SSD             0.00              0.00      0   \n",
            "14            Corsair       SSD             0.00              0.00      0   \n",
            "15               ASUS       GPU             1.70              1.90      0   \n",
            "16           Gigabyte       GPU             1.50              1.70      0   \n",
            "17           Gigabyte       GPU             1.60              1.90      0   \n",
            "18            Corsair       RAM             0.00              0.00      0   \n",
            "19  Crucial Ballistix       RAM             0.00              0.00      0   \n",
            "20            Corsair       RAM             0.00              0.00      0   \n",
            "21            Corsair       SSD             0.00              0.00      0   \n",
            "22     Sabrent Rocket       SSD             0.00              0.00      0   \n",
            "23            Samsung       SSD             0.00              0.00      0   \n",
            "24                AMD       CPU             3.40              4.60      8   \n",
            "25               ASUS       GPU             1.40              1.85      0   \n",
            "26            Corsair       RAM             0.00              0.00      0   \n",
            "27              ADATA       SSD             0.00              0.00      0   \n",
            "28              Intel       CPU             3.30              4.30      4   \n",
            "29               EVGA       GPU             1.39              1.69      0   \n",
            "30  Crucial Ballistix       RAM             0.00              0.00      0   \n",
            "31            Samsung       SSD             0.00              0.00      0   \n",
            "32              Intel       CPU             2.60              4.40      6   \n",
            "33             INNO3D       GPU             1.41              1.65      0   \n",
            "34            G.Skill       RAM             0.00              0.00      0   \n",
            "35            Seagate       SSD             0.00              0.00      0   \n",
            "36              Intel       CPU             3.30              3.30      2   \n",
            "37                MSI       GPU             1.57              1.80      0   \n",
            "38            Corsair       RAM             0.00              0.00      0   \n",
            "39            Corsair       SSD             0.00              0.00      0   \n",
            "\n",
            "    Memory_Size(GB)  RAM_Speed(MHz)   Price  \n",
            "0                 0               0  544.02  \n",
            "1                 0               0  318.44  \n",
            "2                 0               0  216.89  \n",
            "3                 0               0  522.99  \n",
            "4                 0               0  369.99  \n",
            "5                 0               0  297.99  \n",
            "6                12               0  629.99  \n",
            "7                12               0  705.00  \n",
            "8                12               0  719.99  \n",
            "9                32            3200   81.99  \n",
            "10               16            3000  328.18  \n",
            "11                8            3000   21.99  \n",
            "12             2000               0  174.99  \n",
            "13             1000               0  104.95  \n",
            "14             4000               0  329.99  \n",
            "15                8               0  779.99  \n",
            "16                8               0  295.50  \n",
            "17                8               0  319.99  \n",
            "18               16            4800   79.99  \n",
            "19                4            1600   16.30  \n",
            "20               16            3000   43.99  \n",
            "21             4000               0  553.45  \n",
            "22              512               0   44.99  \n",
            "23              500               0   69.90  \n",
            "24                0               0  162.00  \n",
            "25               10               0  499.99  \n",
            "26               16            1600   24.99  \n",
            "27              240               0   46.90  \n",
            "28                0               0   87.04  \n",
            "29               24               0  899.99  \n",
            "30                8            2666   89.96  \n",
            "31             1000               0  149.99  \n",
            "32                0               0  150.95  \n",
            "33                8               0  269.99  \n",
            "34               32            3200   69.99  \n",
            "35             2000               0  187.99  \n",
            "36                0               0   45.99  \n",
            "37                8               0  369.99  \n",
            "38                8            2666   24.99  \n",
            "39              240               0   54.99  \n"
          ]
        }
      ]
    },
    {
      "cell_type": "code",
      "source": [
        "print(data['Brand'].unique())\n",
        "print(data['Component'].unique())"
      ],
      "metadata": {
        "colab": {
          "base_uri": "https://localhost:8080/"
        },
        "id": "hvJHyVzQjgWf",
        "outputId": "3164fa52-af44-4236-e128-a5472332241c"
      },
      "execution_count": null,
      "outputs": [
        {
          "output_type": "stream",
          "name": "stdout",
          "text": [
            "['AMD' 'Intel' 'ASUS' 'MSI' 'GIGABYTE' 'Corsair' 'G.Skill Aegis' 'Samsung'\n",
            " 'Gigabyte' 'Crucial Ballistix' 'Sabrent Rocket' 'ADATA' 'EVGA' 'INNO3D'\n",
            " 'G.Skill' 'Seagate']\n",
            "['CPU' 'GPU' 'RAM' 'SSD']\n"
          ]
        }
      ]
    },
    {
      "cell_type": "code",
      "source": [
        "data['Brand'].value_counts()\n",
        "data['Component'].value_counts()"
      ],
      "metadata": {
        "colab": {
          "base_uri": "https://localhost:8080/"
        },
        "id": "VBo1lU0QkREn",
        "outputId": "e72af0ea-8f3d-4b2b-e228-b2ab24dfdefa"
      },
      "execution_count": null,
      "outputs": [
        {
          "output_type": "execute_result",
          "data": {
            "text/plain": [
              "CPU    10\n",
              "GPU    10\n",
              "RAM    10\n",
              "SSD    10\n",
              "Name: Component, dtype: int64"
            ]
          },
          "metadata": {},
          "execution_count": 108
        }
      ]
    },
    {
      "cell_type": "code",
      "source": [
        "one_hot_encoded_data = pd.get_dummies(data, columns = ['Brand', 'Component'])\n",
        "print(one_hot_encoded_data)"
      ],
      "metadata": {
        "colab": {
          "base_uri": "https://localhost:8080/"
        },
        "id": "DVj0jVrzkrEH",
        "outputId": "c692d9b9-a32e-4c9c-f439-fb0f3577b5d1"
      },
      "execution_count": null,
      "outputs": [
        {
          "output_type": "stream",
          "name": "stdout",
          "text": [
            "    Base Clock(GHz)  Turbo Clock(GHz)  Cores  Memory_Size(GB)  RAM_Speed(MHz)  \\\n",
            "0              4.50              5.70     16                0               0   \n",
            "1              4.50              5.40      8                0               0   \n",
            "2              3.80              5.10      6                0               0   \n",
            "3              3.00              5.20     24                0               0   \n",
            "4              3.40              5.30     16                0               0   \n",
            "5              3.50              5.10     14                0               0   \n",
            "6              1.90              2.50      0               12               0   \n",
            "7              2.30              2.60      0               12               0   \n",
            "8              2.30              2.60      0               12               0   \n",
            "9              0.00              0.00      0               32            3200   \n",
            "10             0.00              0.00      0               16            3000   \n",
            "11             0.00              0.00      0                8            3000   \n",
            "12             0.00              0.00      0             2000               0   \n",
            "13             0.00              0.00      0             1000               0   \n",
            "14             0.00              0.00      0             4000               0   \n",
            "15             1.70              1.90      0                8               0   \n",
            "16             1.50              1.70      0                8               0   \n",
            "17             1.60              1.90      0                8               0   \n",
            "18             0.00              0.00      0               16            4800   \n",
            "19             0.00              0.00      0                4            1600   \n",
            "20             0.00              0.00      0               16            3000   \n",
            "21             0.00              0.00      0             4000               0   \n",
            "22             0.00              0.00      0              512               0   \n",
            "23             0.00              0.00      0              500               0   \n",
            "24             3.40              4.60      8                0               0   \n",
            "25             1.40              1.85      0               10               0   \n",
            "26             0.00              0.00      0               16            1600   \n",
            "27             0.00              0.00      0              240               0   \n",
            "28             3.30              4.30      4                0               0   \n",
            "29             1.39              1.69      0               24               0   \n",
            "30             0.00              0.00      0                8            2666   \n",
            "31             0.00              0.00      0             1000               0   \n",
            "32             2.60              4.40      6                0               0   \n",
            "33             1.41              1.65      0                8               0   \n",
            "34             0.00              0.00      0               32            3200   \n",
            "35             0.00              0.00      0             2000               0   \n",
            "36             3.30              3.30      2                0               0   \n",
            "37             1.57              1.80      0                8               0   \n",
            "38             0.00              0.00      0                8            2666   \n",
            "39             0.00              0.00      0              240               0   \n",
            "\n",
            "     Price  Brand_ADATA  Brand_AMD  Brand_ASUS  Brand_Corsair  ...  \\\n",
            "0   544.02            0          1           0              0  ...   \n",
            "1   318.44            0          1           0              0  ...   \n",
            "2   216.89            0          1           0              0  ...   \n",
            "3   522.99            0          0           0              0  ...   \n",
            "4   369.99            0          0           0              0  ...   \n",
            "5   297.99            0          0           0              0  ...   \n",
            "6   629.99            0          0           1              0  ...   \n",
            "7   705.00            0          0           0              0  ...   \n",
            "8   719.99            0          0           0              0  ...   \n",
            "9    81.99            0          0           0              1  ...   \n",
            "10  328.18            0          0           0              1  ...   \n",
            "11   21.99            0          0           0              0  ...   \n",
            "12  174.99            0          0           0              0  ...   \n",
            "13  104.95            0          0           0              0  ...   \n",
            "14  329.99            0          0           0              1  ...   \n",
            "15  779.99            0          0           1              0  ...   \n",
            "16  295.50            0          0           0              0  ...   \n",
            "17  319.99            0          0           0              0  ...   \n",
            "18   79.99            0          0           0              1  ...   \n",
            "19   16.30            0          0           0              0  ...   \n",
            "20   43.99            0          0           0              1  ...   \n",
            "21  553.45            0          0           0              1  ...   \n",
            "22   44.99            0          0           0              0  ...   \n",
            "23   69.90            0          0           0              0  ...   \n",
            "24  162.00            0          1           0              0  ...   \n",
            "25  499.99            0          0           1              0  ...   \n",
            "26   24.99            0          0           0              1  ...   \n",
            "27   46.90            1          0           0              0  ...   \n",
            "28   87.04            0          0           0              0  ...   \n",
            "29  899.99            0          0           0              0  ...   \n",
            "30   89.96            0          0           0              0  ...   \n",
            "31  149.99            0          0           0              0  ...   \n",
            "32  150.95            0          0           0              0  ...   \n",
            "33  269.99            0          0           0              0  ...   \n",
            "34   69.99            0          0           0              0  ...   \n",
            "35  187.99            0          0           0              0  ...   \n",
            "36   45.99            0          0           0              0  ...   \n",
            "37  369.99            0          0           0              0  ...   \n",
            "38   24.99            0          0           0              1  ...   \n",
            "39   54.99            0          0           0              1  ...   \n",
            "\n",
            "    Brand_INNO3D  Brand_Intel  Brand_MSI  Brand_Sabrent Rocket  Brand_Samsung  \\\n",
            "0              0            0          0                     0              0   \n",
            "1              0            0          0                     0              0   \n",
            "2              0            0          0                     0              0   \n",
            "3              0            1          0                     0              0   \n",
            "4              0            1          0                     0              0   \n",
            "5              0            1          0                     0              0   \n",
            "6              0            0          0                     0              0   \n",
            "7              0            0          1                     0              0   \n",
            "8              0            0          0                     0              0   \n",
            "9              0            0          0                     0              0   \n",
            "10             0            0          0                     0              0   \n",
            "11             0            0          0                     0              0   \n",
            "12             0            0          0                     0              1   \n",
            "13             0            0          0                     0              1   \n",
            "14             0            0          0                     0              0   \n",
            "15             0            0          0                     0              0   \n",
            "16             0            0          0                     0              0   \n",
            "17             0            0          0                     0              0   \n",
            "18             0            0          0                     0              0   \n",
            "19             0            0          0                     0              0   \n",
            "20             0            0          0                     0              0   \n",
            "21             0            0          0                     0              0   \n",
            "22             0            0          0                     1              0   \n",
            "23             0            0          0                     0              1   \n",
            "24             0            0          0                     0              0   \n",
            "25             0            0          0                     0              0   \n",
            "26             0            0          0                     0              0   \n",
            "27             0            0          0                     0              0   \n",
            "28             0            1          0                     0              0   \n",
            "29             0            0          0                     0              0   \n",
            "30             0            0          0                     0              0   \n",
            "31             0            0          0                     0              1   \n",
            "32             0            1          0                     0              0   \n",
            "33             1            0          0                     0              0   \n",
            "34             0            0          0                     0              0   \n",
            "35             0            0          0                     0              0   \n",
            "36             0            1          0                     0              0   \n",
            "37             0            0          1                     0              0   \n",
            "38             0            0          0                     0              0   \n",
            "39             0            0          0                     0              0   \n",
            "\n",
            "    Brand_Seagate  Component_CPU  Component_GPU  Component_RAM  Component_SSD  \n",
            "0               0              1              0              0              0  \n",
            "1               0              1              0              0              0  \n",
            "2               0              1              0              0              0  \n",
            "3               0              1              0              0              0  \n",
            "4               0              1              0              0              0  \n",
            "5               0              1              0              0              0  \n",
            "6               0              0              1              0              0  \n",
            "7               0              0              1              0              0  \n",
            "8               0              0              1              0              0  \n",
            "9               0              0              0              1              0  \n",
            "10              0              0              0              1              0  \n",
            "11              0              0              0              1              0  \n",
            "12              0              0              0              0              1  \n",
            "13              0              0              0              0              1  \n",
            "14              0              0              0              0              1  \n",
            "15              0              0              1              0              0  \n",
            "16              0              0              1              0              0  \n",
            "17              0              0              1              0              0  \n",
            "18              0              0              0              1              0  \n",
            "19              0              0              0              1              0  \n",
            "20              0              0              0              1              0  \n",
            "21              0              0              0              0              1  \n",
            "22              0              0              0              0              1  \n",
            "23              0              0              0              0              1  \n",
            "24              0              1              0              0              0  \n",
            "25              0              0              1              0              0  \n",
            "26              0              0              0              1              0  \n",
            "27              0              0              0              0              1  \n",
            "28              0              1              0              0              0  \n",
            "29              0              0              1              0              0  \n",
            "30              0              0              0              1              0  \n",
            "31              0              0              0              0              1  \n",
            "32              0              1              0              0              0  \n",
            "33              0              0              1              0              0  \n",
            "34              0              0              0              1              0  \n",
            "35              1              0              0              0              1  \n",
            "36              0              1              0              0              0  \n",
            "37              0              0              1              0              0  \n",
            "38              0              0              0              1              0  \n",
            "39              0              0              0              0              1  \n",
            "\n",
            "[40 rows x 26 columns]\n"
          ]
        }
      ]
    },
    {
      "cell_type": "markdown",
      "source": [
        "## Data Preprocessing"
      ],
      "metadata": {
        "id": "7TDksZDmpPHx"
      }
    },
    {
      "cell_type": "code",
      "source": [
        "each_component_features = ['Base Clock(GHz)', 'Turbo Clock(GHz)', 'Cores', 'Memory_Size(GB)', 'RAM_Speed(MHz)']\n",
        "categorical_features = [\n",
        "    col for col in one_hot_encoded_data.columns\n",
        "    if col.startswith('Component_')\n",
        "]\n",
        "X = one_hot_encoded_data[each_component_features + categorical_features]\n",
        "X.head()"
      ],
      "metadata": {
        "colab": {
          "base_uri": "https://localhost:8080/",
          "height": 206
        },
        "id": "_qmI4ooFmfXV",
        "outputId": "9f2c1e4d-a738-4b32-92e8-f8f3e86bb33d"
      },
      "execution_count": null,
      "outputs": [
        {
          "output_type": "execute_result",
          "data": {
            "text/plain": [
              "   Base Clock(GHz)  Turbo Clock(GHz)  Cores  Memory_Size(GB)  RAM_Speed(MHz)  \\\n",
              "0              4.5               5.7     16                0               0   \n",
              "1              4.5               5.4      8                0               0   \n",
              "2              3.8               5.1      6                0               0   \n",
              "3              3.0               5.2     24                0               0   \n",
              "4              3.4               5.3     16                0               0   \n",
              "\n",
              "   Component_CPU  Component_GPU  Component_RAM  Component_SSD  \n",
              "0              1              0              0              0  \n",
              "1              1              0              0              0  \n",
              "2              1              0              0              0  \n",
              "3              1              0              0              0  \n",
              "4              1              0              0              0  "
            ],
            "text/html": [
              "\n",
              "  <div id=\"df-788554ee-80be-49b9-8c5a-c585a75cd522\" class=\"colab-df-container\">\n",
              "    <div>\n",
              "<style scoped>\n",
              "    .dataframe tbody tr th:only-of-type {\n",
              "        vertical-align: middle;\n",
              "    }\n",
              "\n",
              "    .dataframe tbody tr th {\n",
              "        vertical-align: top;\n",
              "    }\n",
              "\n",
              "    .dataframe thead th {\n",
              "        text-align: right;\n",
              "    }\n",
              "</style>\n",
              "<table border=\"1\" class=\"dataframe\">\n",
              "  <thead>\n",
              "    <tr style=\"text-align: right;\">\n",
              "      <th></th>\n",
              "      <th>Base Clock(GHz)</th>\n",
              "      <th>Turbo Clock(GHz)</th>\n",
              "      <th>Cores</th>\n",
              "      <th>Memory_Size(GB)</th>\n",
              "      <th>RAM_Speed(MHz)</th>\n",
              "      <th>Component_CPU</th>\n",
              "      <th>Component_GPU</th>\n",
              "      <th>Component_RAM</th>\n",
              "      <th>Component_SSD</th>\n",
              "    </tr>\n",
              "  </thead>\n",
              "  <tbody>\n",
              "    <tr>\n",
              "      <th>0</th>\n",
              "      <td>4.5</td>\n",
              "      <td>5.7</td>\n",
              "      <td>16</td>\n",
              "      <td>0</td>\n",
              "      <td>0</td>\n",
              "      <td>1</td>\n",
              "      <td>0</td>\n",
              "      <td>0</td>\n",
              "      <td>0</td>\n",
              "    </tr>\n",
              "    <tr>\n",
              "      <th>1</th>\n",
              "      <td>4.5</td>\n",
              "      <td>5.4</td>\n",
              "      <td>8</td>\n",
              "      <td>0</td>\n",
              "      <td>0</td>\n",
              "      <td>1</td>\n",
              "      <td>0</td>\n",
              "      <td>0</td>\n",
              "      <td>0</td>\n",
              "    </tr>\n",
              "    <tr>\n",
              "      <th>2</th>\n",
              "      <td>3.8</td>\n",
              "      <td>5.1</td>\n",
              "      <td>6</td>\n",
              "      <td>0</td>\n",
              "      <td>0</td>\n",
              "      <td>1</td>\n",
              "      <td>0</td>\n",
              "      <td>0</td>\n",
              "      <td>0</td>\n",
              "    </tr>\n",
              "    <tr>\n",
              "      <th>3</th>\n",
              "      <td>3.0</td>\n",
              "      <td>5.2</td>\n",
              "      <td>24</td>\n",
              "      <td>0</td>\n",
              "      <td>0</td>\n",
              "      <td>1</td>\n",
              "      <td>0</td>\n",
              "      <td>0</td>\n",
              "      <td>0</td>\n",
              "    </tr>\n",
              "    <tr>\n",
              "      <th>4</th>\n",
              "      <td>3.4</td>\n",
              "      <td>5.3</td>\n",
              "      <td>16</td>\n",
              "      <td>0</td>\n",
              "      <td>0</td>\n",
              "      <td>1</td>\n",
              "      <td>0</td>\n",
              "      <td>0</td>\n",
              "      <td>0</td>\n",
              "    </tr>\n",
              "  </tbody>\n",
              "</table>\n",
              "</div>\n",
              "    <div class=\"colab-df-buttons\">\n",
              "\n",
              "  <div class=\"colab-df-container\">\n",
              "    <button class=\"colab-df-convert\" onclick=\"convertToInteractive('df-788554ee-80be-49b9-8c5a-c585a75cd522')\"\n",
              "            title=\"Convert this dataframe to an interactive table.\"\n",
              "            style=\"display:none;\">\n",
              "\n",
              "  <svg xmlns=\"http://www.w3.org/2000/svg\" height=\"24px\" viewBox=\"0 -960 960 960\">\n",
              "    <path d=\"M120-120v-720h720v720H120Zm60-500h600v-160H180v160Zm220 220h160v-160H400v160Zm0 220h160v-160H400v160ZM180-400h160v-160H180v160Zm440 0h160v-160H620v160ZM180-180h160v-160H180v160Zm440 0h160v-160H620v160Z\"/>\n",
              "  </svg>\n",
              "    </button>\n",
              "\n",
              "  <style>\n",
              "    .colab-df-container {\n",
              "      display:flex;\n",
              "      gap: 12px;\n",
              "    }\n",
              "\n",
              "    .colab-df-convert {\n",
              "      background-color: #E8F0FE;\n",
              "      border: none;\n",
              "      border-radius: 50%;\n",
              "      cursor: pointer;\n",
              "      display: none;\n",
              "      fill: #1967D2;\n",
              "      height: 32px;\n",
              "      padding: 0 0 0 0;\n",
              "      width: 32px;\n",
              "    }\n",
              "\n",
              "    .colab-df-convert:hover {\n",
              "      background-color: #E2EBFA;\n",
              "      box-shadow: 0px 1px 2px rgba(60, 64, 67, 0.3), 0px 1px 3px 1px rgba(60, 64, 67, 0.15);\n",
              "      fill: #174EA6;\n",
              "    }\n",
              "\n",
              "    .colab-df-buttons div {\n",
              "      margin-bottom: 4px;\n",
              "    }\n",
              "\n",
              "    [theme=dark] .colab-df-convert {\n",
              "      background-color: #3B4455;\n",
              "      fill: #D2E3FC;\n",
              "    }\n",
              "\n",
              "    [theme=dark] .colab-df-convert:hover {\n",
              "      background-color: #434B5C;\n",
              "      box-shadow: 0px 1px 3px 1px rgba(0, 0, 0, 0.15);\n",
              "      filter: drop-shadow(0px 1px 2px rgba(0, 0, 0, 0.3));\n",
              "      fill: #FFFFFF;\n",
              "    }\n",
              "  </style>\n",
              "\n",
              "    <script>\n",
              "      const buttonEl =\n",
              "        document.querySelector('#df-788554ee-80be-49b9-8c5a-c585a75cd522 button.colab-df-convert');\n",
              "      buttonEl.style.display =\n",
              "        google.colab.kernel.accessAllowed ? 'block' : 'none';\n",
              "\n",
              "      async function convertToInteractive(key) {\n",
              "        const element = document.querySelector('#df-788554ee-80be-49b9-8c5a-c585a75cd522');\n",
              "        const dataTable =\n",
              "          await google.colab.kernel.invokeFunction('convertToInteractive',\n",
              "                                                    [key], {});\n",
              "        if (!dataTable) return;\n",
              "\n",
              "        const docLinkHtml = 'Like what you see? Visit the ' +\n",
              "          '<a target=\"_blank\" href=https://colab.research.google.com/notebooks/data_table.ipynb>data table notebook</a>'\n",
              "          + ' to learn more about interactive tables.';\n",
              "        element.innerHTML = '';\n",
              "        dataTable['output_type'] = 'display_data';\n",
              "        await google.colab.output.renderOutput(dataTable, element);\n",
              "        const docLink = document.createElement('div');\n",
              "        docLink.innerHTML = docLinkHtml;\n",
              "        element.appendChild(docLink);\n",
              "      }\n",
              "    </script>\n",
              "  </div>\n",
              "\n",
              "\n",
              "<div id=\"df-6d33f9c5-3786-46b9-9530-dbdd51239298\">\n",
              "  <button class=\"colab-df-quickchart\" onclick=\"quickchart('df-6d33f9c5-3786-46b9-9530-dbdd51239298')\"\n",
              "            title=\"Suggest charts\"\n",
              "            style=\"display:none;\">\n",
              "\n",
              "<svg xmlns=\"http://www.w3.org/2000/svg\" height=\"24px\"viewBox=\"0 0 24 24\"\n",
              "     width=\"24px\">\n",
              "    <g>\n",
              "        <path d=\"M19 3H5c-1.1 0-2 .9-2 2v14c0 1.1.9 2 2 2h14c1.1 0 2-.9 2-2V5c0-1.1-.9-2-2-2zM9 17H7v-7h2v7zm4 0h-2V7h2v10zm4 0h-2v-4h2v4z\"/>\n",
              "    </g>\n",
              "</svg>\n",
              "  </button>\n",
              "\n",
              "<style>\n",
              "  .colab-df-quickchart {\n",
              "      --bg-color: #E8F0FE;\n",
              "      --fill-color: #1967D2;\n",
              "      --hover-bg-color: #E2EBFA;\n",
              "      --hover-fill-color: #174EA6;\n",
              "      --disabled-fill-color: #AAA;\n",
              "      --disabled-bg-color: #DDD;\n",
              "  }\n",
              "\n",
              "  [theme=dark] .colab-df-quickchart {\n",
              "      --bg-color: #3B4455;\n",
              "      --fill-color: #D2E3FC;\n",
              "      --hover-bg-color: #434B5C;\n",
              "      --hover-fill-color: #FFFFFF;\n",
              "      --disabled-bg-color: #3B4455;\n",
              "      --disabled-fill-color: #666;\n",
              "  }\n",
              "\n",
              "  .colab-df-quickchart {\n",
              "    background-color: var(--bg-color);\n",
              "    border: none;\n",
              "    border-radius: 50%;\n",
              "    cursor: pointer;\n",
              "    display: none;\n",
              "    fill: var(--fill-color);\n",
              "    height: 32px;\n",
              "    padding: 0;\n",
              "    width: 32px;\n",
              "  }\n",
              "\n",
              "  .colab-df-quickchart:hover {\n",
              "    background-color: var(--hover-bg-color);\n",
              "    box-shadow: 0 1px 2px rgba(60, 64, 67, 0.3), 0 1px 3px 1px rgba(60, 64, 67, 0.15);\n",
              "    fill: var(--button-hover-fill-color);\n",
              "  }\n",
              "\n",
              "  .colab-df-quickchart-complete:disabled,\n",
              "  .colab-df-quickchart-complete:disabled:hover {\n",
              "    background-color: var(--disabled-bg-color);\n",
              "    fill: var(--disabled-fill-color);\n",
              "    box-shadow: none;\n",
              "  }\n",
              "\n",
              "  .colab-df-spinner {\n",
              "    border: 2px solid var(--fill-color);\n",
              "    border-color: transparent;\n",
              "    border-bottom-color: var(--fill-color);\n",
              "    animation:\n",
              "      spin 1s steps(1) infinite;\n",
              "  }\n",
              "\n",
              "  @keyframes spin {\n",
              "    0% {\n",
              "      border-color: transparent;\n",
              "      border-bottom-color: var(--fill-color);\n",
              "      border-left-color: var(--fill-color);\n",
              "    }\n",
              "    20% {\n",
              "      border-color: transparent;\n",
              "      border-left-color: var(--fill-color);\n",
              "      border-top-color: var(--fill-color);\n",
              "    }\n",
              "    30% {\n",
              "      border-color: transparent;\n",
              "      border-left-color: var(--fill-color);\n",
              "      border-top-color: var(--fill-color);\n",
              "      border-right-color: var(--fill-color);\n",
              "    }\n",
              "    40% {\n",
              "      border-color: transparent;\n",
              "      border-right-color: var(--fill-color);\n",
              "      border-top-color: var(--fill-color);\n",
              "    }\n",
              "    60% {\n",
              "      border-color: transparent;\n",
              "      border-right-color: var(--fill-color);\n",
              "    }\n",
              "    80% {\n",
              "      border-color: transparent;\n",
              "      border-right-color: var(--fill-color);\n",
              "      border-bottom-color: var(--fill-color);\n",
              "    }\n",
              "    90% {\n",
              "      border-color: transparent;\n",
              "      border-bottom-color: var(--fill-color);\n",
              "    }\n",
              "  }\n",
              "</style>\n",
              "\n",
              "  <script>\n",
              "    async function quickchart(key) {\n",
              "      const quickchartButtonEl =\n",
              "        document.querySelector('#' + key + ' button');\n",
              "      quickchartButtonEl.disabled = true;  // To prevent multiple clicks.\n",
              "      quickchartButtonEl.classList.add('colab-df-spinner');\n",
              "      try {\n",
              "        const charts = await google.colab.kernel.invokeFunction(\n",
              "            'suggestCharts', [key], {});\n",
              "      } catch (error) {\n",
              "        console.error('Error during call to suggestCharts:', error);\n",
              "      }\n",
              "      quickchartButtonEl.classList.remove('colab-df-spinner');\n",
              "      quickchartButtonEl.classList.add('colab-df-quickchart-complete');\n",
              "    }\n",
              "    (() => {\n",
              "      let quickchartButtonEl =\n",
              "        document.querySelector('#df-6d33f9c5-3786-46b9-9530-dbdd51239298 button');\n",
              "      quickchartButtonEl.style.display =\n",
              "        google.colab.kernel.accessAllowed ? 'block' : 'none';\n",
              "    })();\n",
              "  </script>\n",
              "</div>\n",
              "\n",
              "    </div>\n",
              "  </div>\n"
            ],
            "application/vnd.google.colaboratory.intrinsic+json": {
              "type": "dataframe",
              "variable_name": "X",
              "summary": "{\n  \"name\": \"X\",\n  \"rows\": 40,\n  \"fields\": [\n    {\n      \"column\": \"Base Clock(GHz)\",\n      \"properties\": {\n        \"dtype\": \"number\",\n        \"std\": 1.5150499484023112,\n        \"min\": 0.0,\n        \"max\": 4.5,\n        \"num_unique_values\": 17,\n        \"samples\": [\n          4.5,\n          3.8,\n          1.9\n        ],\n        \"semantic_type\": \"\",\n        \"description\": \"\"\n      }\n    },\n    {\n      \"column\": \"Turbo Clock(GHz)\",\n      \"properties\": {\n        \"dtype\": \"number\",\n        \"std\": 2.045673342221803,\n        \"min\": 0.0,\n        \"max\": 5.7,\n        \"num_unique_values\": 18,\n        \"samples\": [\n          5.7,\n          5.4,\n          1.9\n        ],\n        \"semantic_type\": \"\",\n        \"description\": \"\"\n      }\n    },\n    {\n      \"column\": \"Cores\",\n      \"properties\": {\n        \"dtype\": \"number\",\n        \"std\": 5,\n        \"min\": 0,\n        \"max\": 24,\n        \"num_unique_values\": 8,\n        \"samples\": [\n          8,\n          0,\n          16\n        ],\n        \"semantic_type\": \"\",\n        \"description\": \"\"\n      }\n    },\n    {\n      \"column\": \"Memory_Size(GB)\",\n      \"properties\": {\n        \"dtype\": \"number\",\n        \"std\": 966,\n        \"min\": 0,\n        \"max\": 4000,\n        \"num_unique_values\": 14,\n        \"samples\": [\n          512,\n          10,\n          0\n        ],\n        \"semantic_type\": \"\",\n        \"description\": \"\"\n      }\n    },\n    {\n      \"column\": \"RAM_Speed(MHz)\",\n      \"properties\": {\n        \"dtype\": \"number\",\n        \"std\": 1332,\n        \"min\": 0,\n        \"max\": 4800,\n        \"num_unique_values\": 6,\n        \"samples\": [\n          0,\n          3200,\n          2666\n        ],\n        \"semantic_type\": \"\",\n        \"description\": \"\"\n      }\n    },\n    {\n      \"column\": \"Component_CPU\",\n      \"properties\": {\n        \"dtype\": \"uint8\",\n        \"num_unique_values\": 2,\n        \"samples\": [\n          0,\n          1\n        ],\n        \"semantic_type\": \"\",\n        \"description\": \"\"\n      }\n    },\n    {\n      \"column\": \"Component_GPU\",\n      \"properties\": {\n        \"dtype\": \"uint8\",\n        \"num_unique_values\": 2,\n        \"samples\": [\n          1,\n          0\n        ],\n        \"semantic_type\": \"\",\n        \"description\": \"\"\n      }\n    },\n    {\n      \"column\": \"Component_RAM\",\n      \"properties\": {\n        \"dtype\": \"uint8\",\n        \"num_unique_values\": 2,\n        \"samples\": [\n          1,\n          0\n        ],\n        \"semantic_type\": \"\",\n        \"description\": \"\"\n      }\n    },\n    {\n      \"column\": \"Component_SSD\",\n      \"properties\": {\n        \"dtype\": \"uint8\",\n        \"num_unique_values\": 2,\n        \"samples\": [\n          1,\n          0\n        ],\n        \"semantic_type\": \"\",\n        \"description\": \"\"\n      }\n    }\n  ]\n}"
            }
          },
          "metadata": {},
          "execution_count": 110
        }
      ]
    },
    {
      "cell_type": "code",
      "source": [
        "y = one_hot_encoded_data['Price']\n",
        "y.head()"
      ],
      "metadata": {
        "colab": {
          "base_uri": "https://localhost:8080/"
        },
        "id": "o4Cj4OyypOIK",
        "outputId": "968dcc26-55ee-4602-dd10-8818504126cc"
      },
      "execution_count": null,
      "outputs": [
        {
          "output_type": "execute_result",
          "data": {
            "text/plain": [
              "0    544.02\n",
              "1    318.44\n",
              "2    216.89\n",
              "3    522.99\n",
              "4    369.99\n",
              "Name: Price, dtype: float64"
            ]
          },
          "metadata": {},
          "execution_count": 111
        }
      ]
    },
    {
      "cell_type": "code",
      "source": [
        "numerical_features = ['Base Clock(GHz)', 'Turbo Clock(GHz)', 'Cores', 'Memory_Size(GB)', 'RAM_Speed(MHz)', 'Price']\n",
        "plt.figure(figsize=(10, 5))\n",
        "for feature in numerical_features:\n",
        "    plt.scatter(data[feature], data['Price'], label=feature, alpha=0.5)\n",
        "\n",
        "plt.xlabel('Feature Value')\n",
        "plt.ylabel('Price')\n",
        "plt.title('Scatter Plot of Numerical Features vs Price')\n",
        "plt.legend()\n",
        "plt.show()"
      ],
      "metadata": {
        "colab": {
          "base_uri": "https://localhost:8080/",
          "height": 487
        },
        "id": "K8bZWHZtzm-o",
        "outputId": "2cc4d744-c104-4a22-bccd-9e6abe275bed"
      },
      "execution_count": null,
      "outputs": [
        {
          "output_type": "display_data",
          "data": {
            "text/plain": [
              "<Figure size 1000x500 with 1 Axes>"
            ],
            "image/png": "[encoded data removed]"
          },
          "metadata": {}
        }
      ]
    },
    {
      "cell_type": "code",
      "source": [
        "from sklearn.model_selection import train_test_split\n",
        "X_train, X_test, y_train, y_test = train_test_split(X, y, test_size=0.3)\n",
        "print(X_train.shape, X_test.shape, y_train.shape, y_test.shape)"
      ],
      "metadata": {
        "colab": {
          "base_uri": "https://localhost:8080/"
        },
        "id": "XB1BJl_ipwHK",
        "outputId": "25379085-76bd-4123-c558-7b2c5c11a8df"
      },
      "execution_count": null,
      "outputs": [
        {
          "output_type": "stream",
          "name": "stdout",
          "text": [
            "(28, 9) (12, 9) (28,) (12,)\n"
          ]
        }
      ]
    },
    {
      "cell_type": "code",
      "source": [
        "from sklearn.preprocessing import MinMaxScaler\n",
        "scaler = MinMaxScaler()\n",
        "X_train = scaler.fit_transform(X_train)\n",
        "X_test = scaler.transform(X_test)"
      ],
      "metadata": {
        "id": "ExmdGtkeRATG"
      },
      "execution_count": null,
      "outputs": []
    },
    {
      "cell_type": "markdown",
      "source": [
        "## Linear Regression Model"
      ],
      "metadata": {
        "id": "M-nSgGJoqMoZ"
      }
    },
    {
      "cell_type": "code",
      "source": [
        "from sklearn.linear_model import LinearRegression\n",
        "lr_model = LinearRegression()\n",
        "lr_model.fit(X_train, y_train)"
      ],
      "metadata": {
        "colab": {
          "base_uri": "https://localhost:8080/",
          "height": 74
        },
        "id": "9k68yolup8XS",
        "outputId": "8b186b7a-7cf5-4f32-f7b5-0b258895b673"
      },
      "execution_count": null,
      "outputs": [
        {
          "output_type": "execute_result",
          "data": {
            "text/plain": [
              "LinearRegression()"
            ],
            "text/html": [
              "<style>#sk-container-id-13 {color: black;background-color: white;}#sk-container-id-13 pre{padding: 0;}#sk-container-id-13 div.sk-toggleable {background-color: white;}#sk-container-id-13 label.sk-toggleable__label {cursor: pointer;display: block;width: 100%;margin-bottom: 0;padding: 0.3em;box-sizing: border-box;text-align: center;}#sk-container-id-13 label.sk-toggleable__label-arrow:before {content: \"▸\";float: left;margin-right: 0.25em;color: #696969;}#sk-container-id-13 label.sk-toggleable__label-arrow:hover:before {color: black;}#sk-container-id-13 div.sk-estimator:hover label.sk-toggleable__label-arrow:before {color: black;}#sk-container-id-13 div.sk-toggleable__content {max-height: 0;max-width: 0;overflow: hidden;text-align: left;background-color: #f0f8ff;}#sk-container-id-13 div.sk-toggleable__content pre {margin: 0.2em;color: black;border-radius: 0.25em;background-color: #f0f8ff;}#sk-container-id-13 input.sk-toggleable__control:checked~div.sk-toggleable__content {max-height: 200px;max-width: 100%;overflow: auto;}#sk-container-id-13 input.sk-toggleable__control:checked~label.sk-toggleable__label-arrow:before {content: \"▾\";}#sk-container-id-13 div.sk-estimator input.sk-toggleable__control:checked~label.sk-toggleable__label {background-color: #d4ebff;}#sk-container-id-13 div.sk-label input.sk-toggleable__control:checked~label.sk-toggleable__label {background-color: #d4ebff;}#sk-container-id-13 input.sk-hidden--visually {border: 0;clip: rect(1px 1px 1px 1px);clip: rect(1px, 1px, 1px, 1px);height: 1px;margin: -1px;overflow: hidden;padding: 0;position: absolute;width: 1px;}#sk-container-id-13 div.sk-estimator {font-family: monospace;background-color: #f0f8ff;border: 1px dotted black;border-radius: 0.25em;box-sizing: border-box;margin-bottom: 0.5em;}#sk-container-id-13 div.sk-estimator:hover {background-color: #d4ebff;}#sk-container-id-13 div.sk-parallel-item::after {content: \"\";width: 100%;border-bottom: 1px solid gray;flex-grow: 1;}#sk-container-id-13 div.sk-label:hover label.sk-toggleable__label {background-color: #d4ebff;}#sk-container-id-13 div.sk-serial::before {content: \"\";position: absolute;border-left: 1px solid gray;box-sizing: border-box;top: 0;bottom: 0;left: 50%;z-index: 0;}#sk-container-id-13 div.sk-serial {display: flex;flex-direction: column;align-items: center;background-color: white;padding-right: 0.2em;padding-left: 0.2em;position: relative;}#sk-container-id-13 div.sk-item {position: relative;z-index: 1;}#sk-container-id-13 div.sk-parallel {display: flex;align-items: stretch;justify-content: center;background-color: white;position: relative;}#sk-container-id-13 div.sk-item::before, #sk-container-id-13 div.sk-parallel-item::before {content: \"\";position: absolute;border-left: 1px solid gray;box-sizing: border-box;top: 0;bottom: 0;left: 50%;z-index: -1;}#sk-container-id-13 div.sk-parallel-item {display: flex;flex-direction: column;z-index: 1;position: relative;background-color: white;}#sk-container-id-13 div.sk-parallel-item:first-child::after {align-self: flex-end;width: 50%;}#sk-container-id-13 div.sk-parallel-item:last-child::after {align-self: flex-start;width: 50%;}#sk-container-id-13 div.sk-parallel-item:only-child::after {width: 0;}#sk-container-id-13 div.sk-dashed-wrapped {border: 1px dashed gray;margin: 0 0.4em 0.5em 0.4em;box-sizing: border-box;padding-bottom: 0.4em;background-color: white;}#sk-container-id-13 div.sk-label label {font-family: monospace;font-weight: bold;display: inline-block;line-height: 1.2em;}#sk-container-id-13 div.sk-label-container {text-align: center;}#sk-container-id-13 div.sk-container {/* jupyter's `normalize.less` sets `[hidden] { display: none; }` but bootstrap.min.css set `[hidden] { display: none !important; }` so we also need the `!important` here to be able to override the default hidden behavior on the sphinx rendered scikit-learn.org. See: https://github.com/scikit-learn/scikit-learn/issues/21755 */display: inline-block !important;position: relative;}#sk-container-id-13 div.sk-text-repr-fallback {display: none;}</style><div id=\"sk-container-id-13\" class=\"sk-top-container\"><div class=\"sk-text-repr-fallback\"><pre>LinearRegression()</pre><b>In a Jupyter environment, please rerun this cell to show the HTML representation or trust the notebook. <br />On GitHub, the HTML representation is unable to render, please try loading this page with nbviewer.org.</b></div><div class=\"sk-container\" hidden><div class=\"sk-item\"><div class=\"sk-estimator sk-toggleable\"><input class=\"sk-toggleable__control sk-hidden--visually\" id=\"sk-estimator-id-13\" type=\"checkbox\" checked><label for=\"sk-estimator-id-13\" class=\"sk-toggleable__label sk-toggleable__label-arrow\">LinearRegression</label><div class=\"sk-toggleable__content\"><pre>LinearRegression()</pre></div></div></div></div></div>"
            ]
          },
          "metadata": {},
          "execution_count": 81
        }
      ]
    },
    {
      "cell_type": "code",
      "source": [
        "from sklearn.metrics import mean_squared_error\n",
        "train_mse = mean_squared_error(y_train, lr_model.predict(X_train))\n",
        "print('Training mse: ', train_mse)"
      ],
      "metadata": {
        "colab": {
          "base_uri": "https://localhost:8080/"
        },
        "id": "-ckg0v3mqQhY",
        "outputId": "3c4563a4-b17e-4fa1-9617-ff01bb98c192"
      },
      "execution_count": null,
      "outputs": [
        {
          "output_type": "stream",
          "name": "stdout",
          "text": [
            "Training mse:  12564.166853173954\n"
          ]
        }
      ]
    },
    {
      "cell_type": "markdown",
      "source": [
        "## Evaluation"
      ],
      "metadata": {
        "id": "XSuvHZQmqtzw"
      }
    },
    {
      "cell_type": "code",
      "source": [
        "test_mse = mean_squared_error(y_test, lr_model.predict(X_test))\n",
        "print('Test mse: ', test_mse)"
      ],
      "metadata": {
        "colab": {
          "base_uri": "https://localhost:8080/"
        },
        "id": "5GBAv0iqqxzr",
        "outputId": "2ef2377f-76ee-4148-f482-17dd8f95241c"
      },
      "execution_count": null,
      "outputs": [
        {
          "output_type": "stream",
          "name": "stdout",
          "text": [
            "Test mse:  15387.608158948095\n"
          ]
        }
      ]
    }
  ]
}